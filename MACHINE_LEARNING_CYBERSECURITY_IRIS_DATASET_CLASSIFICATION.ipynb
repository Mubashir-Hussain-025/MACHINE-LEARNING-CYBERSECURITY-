{
  "nbformat": 4,
  "nbformat_minor": 0,
  "metadata": {
    "colab": {
      "provenance": [],
      "authorship_tag": "ABX9TyMVWk8qLWqiD/PVqWR9saa5",
      "include_colab_link": true
    },
    "kernelspec": {
      "name": "python3",
      "display_name": "Python 3"
    },
    "language_info": {
      "name": "python"
    }
  },
  "cells": [
    {
      "cell_type": "markdown",
      "metadata": {
        "id": "view-in-github",
        "colab_type": "text"
      },
      "source": [
        "<a href=\"https://colab.research.google.com/github/Mubashir-Hussain-025/MACHINE-LEARNING-CYBERSECURITY-/blob/main/MACHINE_LEARNING_CYBERSECURITY_IRIS_DATASET_CLASSIFICATION.ipynb\" target=\"_parent\"><img src=\"https://colab.research.google.com/assets/colab-badge.svg\" alt=\"Open In Colab\"/></a>"
      ]
    },
    {
      "cell_type": "code",
      "execution_count": 145,
      "metadata": {
        "id": "gckWDtRP3jQ0"
      },
      "outputs": [],
      "source": [
        "import pandas as pd\n",
        "import numpy as np\n",
        "from numpy import genfromtxt\n",
        "from sklearn.model_selection import train_test_split\n",
        "from sklearn.tree import DecisionTreeClassifier\n",
        "from sklearn.linear_model import LogisticRegression\n",
        "from sklearn.ensemble import RandomForestClassifier\n",
        "from sklearn.tree import DecisionTreeRegressor\n",
        "from sklearn.metrics import accuracy_score\n",
        "from sklearn.metrics import confusion_matrix\n",
        "from sklearn.metrics import f1_score\n",
        "from sklearn.metrics import precision_score\n",
        "from sklearn.metrics import recall_score\n",
        "from sklearn import svm\n",
        "from sklearn.preprocessing import LabelEncoder , StandardScaler # Corrected the import name"
      ]
    },
    {
      "cell_type": "code",
      "source": [
        "feature=genfromtxt(\"/content/Iris.csv\",delimiter=',',usecols=(i for i in range (0,4)),dtype=float,skip_header=1)\n",
        "class_value=genfromtxt(\"/content/Iris.csv\",delimiter=',',usecols=(-1),dtype=str,skip_header=1)\n"
      ],
      "metadata": {
        "id": "MqB1MUvW5Z3n"
      },
      "execution_count": 146,
      "outputs": []
    },
    {
      "cell_type": "code",
      "source": [
        "scaler = StandardScaler()\n",
        "labels=LabelEncoder().fit_transform(class_value)\n",
        "feature_std=scaler.fit_transform(feature)\n",
        "x_train,x_test,y_train,y_test=train_test_split(feature_std,labels,test_size=0.3,random_state=0)"
      ],
      "metadata": {
        "id": "ll4Tz3oQ6RQz"
      },
      "execution_count": 147,
      "outputs": []
    },
    {
      "cell_type": "code",
      "source": [
        "precision_scores_list=[]\n",
        "accuracy_scores_list=[]\n",
        "recall_scores_list=[]\n",
        "f1_scores_list=[]"
      ],
      "metadata": {
        "id": "p12QNkIW8Feu"
      },
      "execution_count": 148,
      "outputs": []
    },
    {
      "cell_type": "code",
      "source": [
        "def print_stats_metrics(y_test, y_pred):\n",
        "    print('Accuracy: %.2f' % accuracy_score(y_test, y_pred))\n",
        "    accuracy_scores_list.append(accuracy_score(y_test, y_pred))\n",
        "    confmat = confusion_matrix(y_true=y_test, y_pred=y_pred)\n",
        "    print(\"confusion matrix\")\n",
        "    print(confmat)\n",
        "    print(pd.crosstab(y_test, y_pred, rownames=['True'], colnames=['Predicted'], margins=True))\n",
        "    precision_scores_list.append(precision_score(y_true=y_test, y_pred=y_pred, average='weighted'))\n",
        "    print('Precision: %.3f' % precision_score(y_true=y_test, y_pred=y_pred, average='weighted'))\n",
        "    print('Recall: %.3f' % recall_score(y_true=y_test, y_pred=y_pred, average='weighted'))\n",
        "    print('F1-measure: %.3f' % f1_score(y_true=y_test, y_pred=y_pred, average='weighted'))"
      ],
      "metadata": {
        "id": "ulCHZ8o-9GQx"
      },
      "execution_count": 149,
      "outputs": []
    },
    {
      "cell_type": "code",
      "source": [
        "##########################Support Vector Machine##########################\n",
        "print(\"##########################Support Vector Machine##########################\")\n",
        "clfSvm = svm.SVC(gamma='scale')\n",
        "clfSvm.fit(x_train,y_train)\n",
        "predictions = clfSvm.predict(x_test)\n",
        "print_stats_metrics(y_test, predictions)\n",
        "\n",
        "##########################Logistic Regression##########################\n",
        "print(\"##########################Logistic Regression##########################\")\n",
        "clfLog = LogisticRegression(solver='lbfgs', multi_class='auto')\n",
        "clfLog.fit(x_train,y_train)\n",
        "predictions = clfLog.predict(x_test)\n",
        "print_stats_metrics(y_test, predictions)\n",
        "\n",
        "##########################Decision Tree##########################\n",
        "print(\"##########################Decision Tree##########################\")\n",
        "clfDT = DecisionTreeRegressor()\n",
        "clfDT.fit(x_train,y_train)\n",
        "predictions = clfDT.predict(x_test)\n",
        "print_stats_metrics(y_test, predictions)\n",
        "\n",
        "##########################Random Forest##########################\n",
        "print(\"##########################Random Forest##########################\")\n",
        "clfRF = RandomForestClassifier()\n",
        "clfRF.fit(x_train,y_train)\n",
        "predictions = clfRF.predict(x_test)\n",
        "print_stats_metrics(y_test, predictions)"
      ],
      "metadata": {
        "colab": {
          "base_uri": "https://localhost:8080/"
        },
        "id": "cQAdt7ie7BtD",
        "outputId": "ea51f5f8-502b-49be-bcae-a45c7bccb2c8"
      },
      "execution_count": 150,
      "outputs": [
        {
          "output_type": "stream",
          "name": "stdout",
          "text": [
            "##########################Support Vector Machine##########################\n",
            "Accuracy: 1.00\n",
            "confusion matrix\n",
            "[[16  0  0]\n",
            " [ 0 18  0]\n",
            " [ 0  0 11]]\n",
            "Predicted   0   1   2  All\n",
            "True                      \n",
            "0          16   0   0   16\n",
            "1           0  18   0   18\n",
            "2           0   0  11   11\n",
            "All        16  18  11   45\n",
            "Precision: 1.000\n",
            "Recall: 1.000\n",
            "F1-measure: 1.000\n",
            "##########################Logistic Regression##########################\n",
            "Accuracy: 1.00\n",
            "confusion matrix\n",
            "[[16  0  0]\n",
            " [ 0 18  0]\n",
            " [ 0  0 11]]\n",
            "Predicted   0   1   2  All\n",
            "True                      \n",
            "0          16   0   0   16\n",
            "1           0  18   0   18\n",
            "2           0   0  11   11\n",
            "All        16  18  11   45\n",
            "Precision: 1.000\n",
            "Recall: 1.000\n",
            "F1-measure: 1.000\n",
            "##########################Decision Tree##########################\n",
            "Accuracy: 0.98\n",
            "confusion matrix\n",
            "[[16  0  0]\n",
            " [ 0 18  0]\n",
            " [ 0  1 10]]\n",
            "Predicted  0.0  1.0  2.0  All\n",
            "True                         \n",
            "0           16    0    0   16\n",
            "1            0   18    0   18\n",
            "2            0    1   10   11\n",
            "All         16   19   10   45\n",
            "Precision: 0.979\n",
            "Recall: 0.978\n",
            "F1-measure: 0.978\n",
            "##########################Random Forest##########################\n"
          ]
        },
        {
          "output_type": "stream",
          "name": "stderr",
          "text": [
            "/usr/local/lib/python3.11/dist-packages/sklearn/linear_model/_logistic.py:1247: FutureWarning: 'multi_class' was deprecated in version 1.5 and will be removed in 1.7. From then on, it will always use 'multinomial'. Leave it to its default value to avoid this warning.\n",
            "  warnings.warn(\n"
          ]
        },
        {
          "output_type": "stream",
          "name": "stdout",
          "text": [
            "Accuracy: 1.00\n",
            "confusion matrix\n",
            "[[16  0  0]\n",
            " [ 0 18  0]\n",
            " [ 0  0 11]]\n",
            "Predicted   0   1   2  All\n",
            "True                      \n",
            "0          16   0   0   16\n",
            "1           0  18   0   18\n",
            "2           0   0  11   11\n",
            "All        16  18  11   45\n",
            "Precision: 1.000\n",
            "Recall: 1.000\n",
            "F1-measure: 1.000\n"
          ]
        }
      ]
    }
  ]
}